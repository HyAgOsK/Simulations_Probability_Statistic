{
  "nbformat": 4,
  "nbformat_minor": 0,
  "metadata": {
    "colab": {
      "provenance": []
    },
    "kernelspec": {
      "name": "python3",
      "display_name": "Python 3"
    },
    "language_info": {
      "name": "python"
    }
  },
  "cells": [
    {
      "cell_type": "markdown",
      "source": [
        "# Listas de Filas Trabalho\n",
        "\n",
        "Hyago Vieira\n",
        "\n"
      ],
      "metadata": {
        "id": "VHmAxuE0Vo9W"
      }
    },
    {
      "cell_type": "markdown",
      "source": [
        "1) Carros entram em uma fila de pedágio de acordo com um processo de Poisson de\n",
        "taxa 3 carros a cada cinco minutos, o tempo de atendimento segue uma variável\n",
        "exponencial de média 1/μ = 1 minuto.\n",
        "\n",
        "a) Qual é o tempo médio dos carros no sistema?\n",
        "\n",
        "b) Qual é o número médio de carros na fila?\n"
      ],
      "metadata": {
        "id": "Zhkj8VF_Vsh6"
      }
    },
    {
      "cell_type": "code",
      "execution_count": 6,
      "metadata": {
        "colab": {
          "base_uri": "https://localhost:8080/"
        },
        "id": "W_zeU_9DVmbQ",
        "outputId": "66d28459-fd27-47ac-9fee-217437a6cc9f"
      },
      "outputs": [
        {
          "output_type": "stream",
          "name": "stdout",
          "text": [
            "Número médio de elementos na fila = 0.9108 carros.\n",
            "Tempo médio no sistema = 2.5179 minutos.\n"
          ]
        }
      ],
      "source": [
        "import numpy as np\n",
        "\n",
        "# Parâmetros do sistema: estado da fila e do servidor, taxas de chegada e de serviço\n",
        "estado_fila, estado_servidor = [0, 1]\n",
        "taxa_chegada, taxa_servico = [3/5, 1]\n",
        "\n",
        "# Inicialização dos tempos de chegada e partida, usando distribuição exponencial\n",
        "tempo_chegada = np.random.exponential(1/taxa_chegada, 1)\n",
        "tempo_partida = np.random.exponential(1/taxa_servico, 1)\n",
        "tempos_chegada, tempos_partida, tempos_sistema = [[0], [], []]\n",
        "proximo_evento = np.minimum(tempo_chegada, tempo_partida)\n",
        "num_partidas = 0\n",
        "\n",
        "# Loop principal de simulação\n",
        "while proximo_evento < 20000:\n",
        "    if tempo_chegada < tempo_partida:  # Evento de chegada\n",
        "        tempos_chegada = np.append(tempos_chegada, proximo_evento)\n",
        "        tempo_chegada = proximo_evento + np.random.exponential(1/taxa_chegada, 1)\n",
        "\n",
        "        if estado_servidor == 1:\n",
        "            estado_fila += 1  # Incrementa elementos na fila\n",
        "        else:\n",
        "            estado_servidor = 1\n",
        "            tempo_partida = proximo_evento + np.random.exponential(1/taxa_servico, 1)\n",
        "\n",
        "    else:  # Evento de partida\n",
        "        num_partidas += 1\n",
        "        tempos_partida = np.append(tempos_partida, proximo_evento)\n",
        "\n",
        "        if estado_fila > 0:\n",
        "            estado_fila -= 1\n",
        "            tempo_partida = proximo_evento + np.random.exponential(1/taxa_servico, 1)\n",
        "        else:\n",
        "            estado_servidor = 0\n",
        "            tempo_partida = np.inf\n",
        "\n",
        "        tempos_sistema = np.append(tempos_sistema, tempos_partida[num_partidas-1] - tempos_chegada[num_partidas-1])\n",
        "\n",
        "    proximo_evento = np.minimum(tempo_chegada, tempo_partida)\n",
        "\n",
        "# Cálculo das métricas de desempenho do sistema\n",
        "tempo_medio_fila = np.mean(tempos_sistema) - 1/taxa_servico\n",
        "tempo_medio_sistema = np.mean(tempos_sistema)\n",
        "\n",
        "print(f'Número médio de elementos na fila = {taxa_chegada * tempo_medio_fila:.4f} carros.')\n",
        "print(f'Tempo médio no sistema = {tempo_medio_sistema:.4f} minutos.')\n"
      ]
    },
    {
      "cell_type": "markdown",
      "source": [
        "2) Um comutador de pacotes possui uma linha de saída e recebe, em média, 40\n",
        "pacotes por segundo. Cada pacote tem, em média, 5.000 bits de comprimento,\n",
        "com distribuição exponencial. A linha de saída do comutador tem taxa de 500\n",
        "kbps.\n",
        "\n",
        "a) Qual é o tempo médio de permanência de um pacote no comutador (esperando\n",
        "na fila e sendo transmitido)?\n",
        "\n",
        "b) Qual é o tempo médio de espera na fila?"
      ],
      "metadata": {
        "id": "U9WrGAdgYLkN"
      }
    },
    {
      "cell_type": "code",
      "source": [
        "import numpy as np\n",
        "\n",
        "num_fila, estado_servidor = [0, 1]       # Elementos na Fila e no Servidor.\n",
        "taxa_chegada, taxa_servico = [40, 1/0.01]  # Taxas de chegada e de atendimento.\n",
        "\n",
        "# Próximos chegada, partida e tempo de execução para atendimento exponencial:\n",
        "tempo_chegada, tempo_partida = np.random.exponential(1/taxa_chegada, 1), np.random.exponential(1/taxa_servico, 1)\n",
        "tempos_chegadas, tempos_partidas, tempos_sistema = [[0], [], []]\n",
        "tempo_evento = np.minimum(tempo_chegada, tempo_partida)\n",
        "num_partidas = 0             # Número de partidas.\n",
        "\n",
        "while (tempo_evento < 1000):\n",
        "  if tempo_chegada < tempo_partida:     # Próximo evento é uma chegada\n",
        "    tempos_chegadas = np.append(tempos_chegadas, tempo_evento)\n",
        "    tempo_chegada = tempo_evento + np.random.exponential(1/taxa_chegada, 1)  # Gera nova chegada.\n",
        "\n",
        "    if estado_servidor == 1: num_fila = num_fila + 1   # Aumenta o número de elementos na fila.\n",
        "    else:                     # Se o servidor estiver ocioso:\n",
        "      estado_servidor = 1                  # Ocupa o servidor livre e gera a partida.\n",
        "      tempo_partida = tempo_evento + np.random.exponential(1/taxa_servico, 1)\n",
        "\n",
        "  else:         # Próximo evento é uma partida\n",
        "    num_partidas = num_partidas + 1\n",
        "    tempos_partidas = np.append(tempos_partidas, tempo_evento)\n",
        "\n",
        "    if num_fila > 0:  # Se existem elementos na fila:\n",
        "      num_fila = num_fila - 1 # Diminui o número de elementos na fila e gera a partida.\n",
        "      tempo_partida = tempo_evento + np.random.exponential(1/taxa_servico, 1)\n",
        "    else:       # Se não há pacotes na fila:\n",
        "      estado_servidor = 0    # Servidor vazio\n",
        "      tempo_partida = np.infty\n",
        "\n",
        "    tempos_sistema = np.append(tempos_sistema, (tempos_partidas[num_partidas-1] - tempos_chegadas[num_partidas-1]))\n",
        "  tempo_evento = np.minimum(tempo_chegada, tempo_partida) # Ocorrência do próximo evento.\n",
        "\n",
        "tempo_medio_fila, tempo_medio_sistema = [np.mean(tempos_sistema) - 1/taxa_servico, np.mean(tempos_sistema)]\n",
        "print(f'Tempo Médio de espera na Fila = {tempo_medio_fila*1000:.4f} ms')\n",
        "print(f'Tempo médio no Sistema = {tempo_medio_sistema*1000:.4f} ms')\n"
      ],
      "metadata": {
        "colab": {
          "base_uri": "https://localhost:8080/"
        },
        "id": "RF_bQnGLYHbv",
        "outputId": "cb58f8ee-8eca-40e7-99ad-63bec41f44a8"
      },
      "execution_count": 13,
      "outputs": [
        {
          "output_type": "stream",
          "name": "stdout",
          "text": [
            "Tempo Médio de espera na Fila = 6.6463 ms\n",
            "Tempo médio no Sistema = 16.6463 ms\n"
          ]
        }
      ]
    },
    {
      "cell_type": "markdown",
      "source": [
        "3) Um comutador de pacotes recebe em média 200 pacotes/segundo, cada um com\n",
        "um comprimento médio de 128 bytes. O comutador possui uma única linha de\n",
        "saída com capacidade de 256 kbps. Considere um buffer com {1,5,10,15}\n",
        "posições na fila, qual a probabilidade de bloqueio, número médio de elementos e\n",
        "tempo médio no sistema?"
      ],
      "metadata": {
        "id": "MwVUVOqqatRj"
      }
    },
    {
      "cell_type": "code",
      "source": [
        "for buffer_capacidade in [1, 5, 10, 15]:  # Capacidade do buffer\n",
        "  tempo, partidas = [0, 0]                # Tempo inicial e número de partidas\n",
        "  num_fila, num_servidor = [0, 1]         # Número de elementos na fila e no servidor\n",
        "  taxa_chegada, taxa_atendimento = [200, 250]  # Taxa média de chegada e atendimento\n",
        "  num_bloqueios, total_chegadas = [0, 0]  # Número de elementos bloqueados e total de chegadas\n",
        "\n",
        "  tempo_chegada = tempo + np.random.exponential(1/taxa_chegada, 1)  # Tempo inicial de chegada\n",
        "  tempo_partida = tempo + np.random.exponential(1/taxa_atendimento, 1)  # Tempo inicial de partida\n",
        "  tempo = np.minimum(tempo_chegada, tempo_partida)  # Próximo evento\n",
        "\n",
        "  # Tempos de chegada, partida e de permanência no sistema:\n",
        "  tempos_chegada, tempos_partida, tempos_sistema = [[0], [], []]\n",
        "  while (tempo < 1000):\n",
        "    if tempo_chegada < tempo_partida:  # Próximo evento é uma chegada\n",
        "      total_chegadas += 1                             # Contabiliza uma chegada\n",
        "      tempo_chegada = tempo + np.random.exponential(1/taxa_chegada, 1)  # Gera próxima chegada\n",
        "\n",
        "      if num_servidor == 1:  # Se o servidor estiver ocupado\n",
        "        if num_fila == buffer_capacidade:\n",
        "          num_bloqueios += 1  # Bloqueio se o buffer estiver cheio\n",
        "        else:  # Armazena o elemento no buffer\n",
        "          num_fila += 1  # Incrementa o número de elementos na fila\n",
        "          tempos_chegada = np.append(tempos_chegada, tempo)\n",
        "      else:  # Se o servidor estiver livre\n",
        "        num_servidor = 1  # Ocupa o servidor livre\n",
        "        tempo_partida = tempo + np.random.exponential(1/taxa_atendimento, 1)  # Gera próxima partida\n",
        "        tempos_chegada = np.append(tempos_chegada, tempo)\n",
        "    else:  # Próximo evento é uma partida\n",
        "      partidas += 1\n",
        "      tempos_partida = np.append(tempos_partida, tempo)\n",
        "\n",
        "      if num_fila > 0:  # Se existem elementos na fila\n",
        "        num_fila -= 1  # Decrementa a fila\n",
        "        tempo_partida = tempo + np.random.exponential(1/taxa_atendimento, 1)  # Gera próxima partida\n",
        "      else:\n",
        "        num_servidor = 0\n",
        "        tempo_partida = np.infty\n",
        "\n",
        "      tempos_sistema = np.append(tempos_sistema, (tempos_partida[partidas-1] - tempos_chegada[partidas-1]))\n",
        "    tempo = np.minimum(tempo_chegada, tempo_partida)\n",
        "\n",
        "  utilizacao_servidor, prob_bloqueio = [taxa_chegada/taxa_atendimento, num_bloqueios/total_chegadas]\n",
        "  tempo_espera, tempo_fila = [np.mean(tempos_sistema) - 1/taxa_atendimento, np.mean(tempos_sistema)]\n",
        "  media_espera, media_fila = [taxa_chegada*tempo_espera*(1 - prob_bloqueio), taxa_chegada*tempo_fila*(1 - prob_bloqueio)]\n",
        "\n",
        "  print(f'Para sistema com capacidade do buffer de {buffer_capacidade}:')\n",
        "  print(f'Número e tempo médio de elementos no sistema = {media_fila:.4f}, {tempo_fila*1000:.4f} ms')\n",
        "  print(f'Probabilidade de bloqueio = {prob_bloqueio:.4f}\\n')\n"
      ],
      "metadata": {
        "colab": {
          "base_uri": "https://localhost:8080/"
        },
        "id": "jZ47_G3uZejr",
        "outputId": "3ae3ac81-eca8-400e-dc54-f1abc7c451de"
      },
      "execution_count": 12,
      "outputs": [
        {
          "output_type": "stream",
          "name": "stdout",
          "text": [
            "Para sistema com capacidade do buffer de 1:\n",
            "Número e tempo médio de elementos no sistema = 0.8496, 5.7460 ms\n",
            "Probabilidade de bloqueio = 0.2607\n",
            "\n",
            "Para sistema com capacidade do buffer de 5:\n",
            "Número e tempo médio de elementos no sistema = 2.1230, 11.3531 ms\n",
            "Probabilidade de bloqueio = 0.0650\n",
            "\n",
            "Para sistema com capacidade do buffer de 10:\n",
            "Número e tempo médio de elementos no sistema = 3.0893, 15.7325 ms\n",
            "Probabilidade de bloqueio = 0.0182\n",
            "\n",
            "Para sistema com capacidade do buffer de 15:\n",
            "Número e tempo médio de elementos no sistema = 3.6220, 18.2174 ms\n",
            "Probabilidade de bloqueio = 0.0059\n",
            "\n"
          ]
        }
      ]
    },
    {
      "cell_type": "markdown",
      "source": [
        "4) Um nó de uma rede de computadores possui buffer infinito. A chegada das\n",
        "mensagens é Poissoniana com taxa 1 mensagem/segundo e o tamanho médio das\n",
        "mensagens é igual a 2.000 bits. A capacidade do meio de transmissão é de\n",
        "10.000 bps. Determine o tempo médio que uma mensagem permanece no nó\n",
        "(espera + serviço) supondo que o comprimento das mensagens:\n",
        "\n",
        "a) é constante.\n",
        "\n",
        "b) tem distribuição exponencial."
      ],
      "metadata": {
        "id": "GXDSYneIcI6B"
      }
    },
    {
      "cell_type": "code",
      "source": [
        "for distribuicao in ['constante', 'exponencial']:\n",
        "  fila, servidor = [0, 1]  # Elementos na fila e no servidor\n",
        "  taxa_chegada, taxa_atendimento = [1, 5]  # Taxas de chegada e atendimento\n",
        "\n",
        "  # Próximos eventos de chegada, partida e tempo de execução dependem da distribuição\n",
        "  # do tamanho dos pacotes:\n",
        "  tempo_chegada = np.random.exponential(1/taxa_chegada, 1)\n",
        "  tempo_partida = np.random.exponential(1/taxa_atendimento, 1) if distribuicao == 'exponencial' else 1/taxa_atendimento\n",
        "  tempos_chegadas, tempos_partidas, tempos_sistema = [[0], [], []]\n",
        "  tempo = np.minimum(tempo_chegada, tempo_partida)\n",
        "  partidas = 0  # Número de partidas\n",
        "\n",
        "  while (tempo < 50000):\n",
        "    if tempo_chegada < tempo_partida:  # Próximo evento é uma chegada\n",
        "      tempos_chegadas = np.append(tempos_chegadas, tempo)\n",
        "      tempo_chegada = tempo + np.random.exponential(1/taxa_chegada, 1)  # Gera nova chegada\n",
        "\n",
        "      if servidor == 1:\n",
        "        fila += 1  # Aumenta o número de elementos na fila\n",
        "      else:  # Se o servidor estiver ocioso:\n",
        "        servidor = 1  # Ocupa o servidor livre e gera a partida\n",
        "        tempo_partida = tempo + (np.random.exponential(1/taxa_atendimento, 1) if distribuicao == 'exponencial' else 1/taxa_atendimento)\n",
        "\n",
        "    else:  # Próximo evento é uma partida\n",
        "      partidas += 1\n",
        "      tempos_partidas = np.append(tempos_partidas, tempo)\n",
        "\n",
        "      if fila > 0:  # Se existem elementos na fila:\n",
        "        fila -= 1  # Diminui o número de elementos na fila e gera a partida\n",
        "        tempo_partida = tempo + (np.random.exponential(1/taxa_atendimento, 1) if distribuicao == 'exponencial' else 1/taxa_atendimento)\n",
        "      else:  # Se não há pacotes na fila:\n",
        "        servidor = 0  # Servidor vazio\n",
        "        tempo_partida = np.infty\n",
        "\n",
        "      tempos_sistema = np.append(tempos_sistema, (tempos_partidas[partidas-1] - tempos_chegadas[partidas-1]))\n",
        "    tempo = np.minimum(tempo_chegada, tempo_partida)  # Ocorrência do próximo evento\n",
        "\n",
        "  print(f'Sistema com distribuição {distribuicao}:')\n",
        "  print(f'Tempo médio no Sistema = {np.mean(tempos_sistema)*1000:.4f} ms.\\n')\n"
      ],
      "metadata": {
        "colab": {
          "base_uri": "https://localhost:8080/"
        },
        "id": "Y9gxutvcb9FC",
        "outputId": "047437a6-d430-41ee-80fb-2657e148f407"
      },
      "execution_count": 15,
      "outputs": [
        {
          "output_type": "stream",
          "name": "stdout",
          "text": [
            "Sistema com distribuição constante:\n",
            "Tempo médio no Sistema = 225.3621 ms.\n",
            "\n",
            "Sistema com distribuição exponencial:\n",
            "Tempo médio no Sistema = 250.8108 ms.\n",
            "\n"
          ]
        }
      ]
    }
  ]
}